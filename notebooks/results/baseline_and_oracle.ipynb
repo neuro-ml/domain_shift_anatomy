{
 "cells": [
  {
   "cell_type": "code",
   "execution_count": 71,
   "id": "corrected-assumption",
   "metadata": {},
   "outputs": [],
   "source": [
    "from pathlib import Path\n",
    "\n",
    "import numpy as np\n",
    "import pandas as pd\n",
    "import matplotlib.pyplot as plt\n",
    "\n",
    "from dpipe.io import load"
   ]
  },
  {
   "cell_type": "code",
   "execution_count": 19,
   "id": "radical-tuning",
   "metadata": {},
   "outputs": [
    {
     "data": {
      "text/html": [
       "<div>\n",
       "<style scoped>\n",
       "    .dataframe tbody tr th:only-of-type {\n",
       "        vertical-align: middle;\n",
       "    }\n",
       "\n",
       "    .dataframe tbody tr th {\n",
       "        vertical-align: top;\n",
       "    }\n",
       "\n",
       "    .dataframe thead th {\n",
       "        text-align: right;\n",
       "    }\n",
       "</style>\n",
       "<table border=\"1\" class=\"dataframe\">\n",
       "  <thead>\n",
       "    <tr style=\"text-align: right;\">\n",
       "      <th></th>\n",
       "      <th>MRI</th>\n",
       "      <th>brain_mask</th>\n",
       "      <th>fold</th>\n",
       "      <th>tomograph_model</th>\n",
       "      <th>tesla_value</th>\n",
       "      <th>x</th>\n",
       "      <th>y</th>\n",
       "      <th>z</th>\n",
       "    </tr>\n",
       "    <tr>\n",
       "      <th>id</th>\n",
       "      <th></th>\n",
       "      <th></th>\n",
       "      <th></th>\n",
       "      <th></th>\n",
       "      <th></th>\n",
       "      <th></th>\n",
       "      <th></th>\n",
       "      <th></th>\n",
       "    </tr>\n",
       "  </thead>\n",
       "  <tbody>\n",
       "    <tr>\n",
       "      <th>CC0030</th>\n",
       "      <td>images/CC0030_philips_15_42_F.nii.gz</td>\n",
       "      <td>masks/CC0030_philips_15_42_F_ss.nii.gz</td>\n",
       "      <td>4</td>\n",
       "      <td>philips</td>\n",
       "      <td>15</td>\n",
       "      <td>1.000008</td>\n",
       "      <td>0.888889</td>\n",
       "      <td>0.888889</td>\n",
       "    </tr>\n",
       "    <tr>\n",
       "      <th>CC0326</th>\n",
       "      <td>images/CC0326_ge_3_55_M.nii.gz</td>\n",
       "      <td>masks/CC0326_ge_3_55_M_ss.nii.gz</td>\n",
       "      <td>3</td>\n",
       "      <td>ge</td>\n",
       "      <td>3</td>\n",
       "      <td>1.000000</td>\n",
       "      <td>1.000000</td>\n",
       "      <td>1.000000</td>\n",
       "    </tr>\n",
       "    <tr>\n",
       "      <th>CC0187</th>\n",
       "      <td>images/CC0187_siemens_3_63_F.nii.gz</td>\n",
       "      <td>masks/CC0187_siemens_3_63_F_ss.nii.gz</td>\n",
       "      <td>1</td>\n",
       "      <td>siemens</td>\n",
       "      <td>3</td>\n",
       "      <td>1.329996</td>\n",
       "      <td>1.000000</td>\n",
       "      <td>1.000000</td>\n",
       "    </tr>\n",
       "    <tr>\n",
       "      <th>CC0114</th>\n",
       "      <td>images/CC0114_philips_3_60_M.nii.gz</td>\n",
       "      <td>masks/CC0114_philips_3_60_M_ss.nii.gz</td>\n",
       "      <td>5</td>\n",
       "      <td>philips</td>\n",
       "      <td>3</td>\n",
       "      <td>1.000000</td>\n",
       "      <td>1.000000</td>\n",
       "      <td>1.000000</td>\n",
       "    </tr>\n",
       "    <tr>\n",
       "      <th>CC0231</th>\n",
       "      <td>images/CC0231_siemens_3_56_M.nii.gz</td>\n",
       "      <td>masks/CC0231_siemens_3_56_M_ss.nii.gz</td>\n",
       "      <td>1</td>\n",
       "      <td>siemens</td>\n",
       "      <td>3</td>\n",
       "      <td>1.330005</td>\n",
       "      <td>1.000000</td>\n",
       "      <td>1.000000</td>\n",
       "    </tr>\n",
       "  </tbody>\n",
       "</table>\n",
       "</div>"
      ],
      "text/plain": [
       "                                         MRI  \\\n",
       "id                                             \n",
       "CC0030  images/CC0030_philips_15_42_F.nii.gz   \n",
       "CC0326        images/CC0326_ge_3_55_M.nii.gz   \n",
       "CC0187   images/CC0187_siemens_3_63_F.nii.gz   \n",
       "CC0114   images/CC0114_philips_3_60_M.nii.gz   \n",
       "CC0231   images/CC0231_siemens_3_56_M.nii.gz   \n",
       "\n",
       "                                    brain_mask  fold tomograph_model  \\\n",
       "id                                                                     \n",
       "CC0030  masks/CC0030_philips_15_42_F_ss.nii.gz     4         philips   \n",
       "CC0326        masks/CC0326_ge_3_55_M_ss.nii.gz     3              ge   \n",
       "CC0187   masks/CC0187_siemens_3_63_F_ss.nii.gz     1         siemens   \n",
       "CC0114   masks/CC0114_philips_3_60_M_ss.nii.gz     5         philips   \n",
       "CC0231   masks/CC0231_siemens_3_56_M_ss.nii.gz     1         siemens   \n",
       "\n",
       "        tesla_value         x         y         z  \n",
       "id                                                 \n",
       "CC0030           15  1.000008  0.888889  0.888889  \n",
       "CC0326            3  1.000000  1.000000  1.000000  \n",
       "CC0187            3  1.329996  1.000000  1.000000  \n",
       "CC0114            3  1.000000  1.000000  1.000000  \n",
       "CC0231            3  1.330005  1.000000  1.000000  "
      ]
     },
     "execution_count": 19,
     "metadata": {},
     "output_type": "execute_result"
    }
   ],
   "source": [
    "path_base_new = Path('/gpfs/data/gpfs0/b.shirokikh/experiments/da/miccai2021_spottune/baseline/cc359_unet2d_one2all/')\n",
    "path_oracle_new = Path('/gpfs/data/gpfs0/b.shirokikh/experiments/da/miccai2021_spottune/baseline/cc359_unet2d_oracle/')\n",
    "\n",
    "path_base_old = Path('/gpfs/data/gpfs0/b.shirokikh/experiments/da/dart_base/cc359_unet2d_one2all/')\n",
    "path_oracle_old = Path('/gpfs/data/gpfs0/b.shirokikh/experiments/da/dart_base/cc359_unet2d_oracle/')\n",
    "\n",
    "meta = pd.read_csv('/gpfs/data/gpfs0/b.shirokikh/data/cc359/meta.csv', index_col='id')\n",
    "meta.head()"
   ]
  },
  {
   "cell_type": "code",
   "execution_count": 58,
   "id": "educated-static",
   "metadata": {},
   "outputs": [],
   "source": [
    "def bsln_orcl (path_base, path_oracle):\n",
    "    records = []\n",
    "    for s in sorted(meta['fold'].unique()):\n",
    "        res_row = {}\n",
    "\n",
    "        # one2all results:\n",
    "        sdices = load(path_base / f'experiment_{s}/test_metrics/sdice_score.json')\n",
    "        for t in sorted(set(meta['fold'].unique()) - {s}):\n",
    "            df_row = meta[meta['fold'] == t].iloc[0]\n",
    "            target_name = df_row['tomograph_model'] + str(df_row['tesla_value'])\n",
    "\n",
    "            ids_t = meta[meta['fold'] == t].index\n",
    "            res_row[target_name] = np.mean([sdsc for _id, sdsc in sdices.items() if _id in ids_t])\n",
    "\n",
    "        df_row = meta[meta['fold'] == s].iloc[0]\n",
    "        source_name = df_row['tomograph_model'] + str(df_row['tesla_value'])\n",
    "        sdices = {}\n",
    "        for n_val in range(3):\n",
    "            sdices = {**sdices,\n",
    "                      **load(path_oracle / f'experiment_{s * 3 + n_val}/test_metrics/sdice_score.json')}\n",
    "            \n",
    "        ids_s = meta[meta['fold'] == s].index    \n",
    "        res_row[source_name] = np.mean([sdsc for _id, sdsc in sdices.items() if _id in ids_s])\n",
    "\n",
    "        res_row[' '] = source_name\n",
    "        records.append(res_row)\n",
    "\n",
    "    return records"
   ]
  },
  {
   "cell_type": "code",
   "execution_count": 59,
   "id": "regulation-breeding",
   "metadata": {},
   "outputs": [],
   "source": [
    "records = bsln_orcl (path_base_old, path_oracle_old)\n",
    "df_old = pd.DataFrame.from_records(records, index=' ')\n",
    "df_old = df_old[df_old.index].T\n",
    "\n",
    "records = bsln_orcl (path_base_new, path_oracle_new)\n",
    "df_new = pd.DataFrame.from_records(records, index=' ')\n",
    "df_new = df_new[df_new.index].T"
   ]
  },
  {
   "cell_type": "code",
   "execution_count": 62,
   "id": "ecological-lover",
   "metadata": {},
   "outputs": [
    {
     "data": {
      "text/html": [
       "<div>\n",
       "<style scoped>\n",
       "    .dataframe tbody tr th:only-of-type {\n",
       "        vertical-align: middle;\n",
       "    }\n",
       "\n",
       "    .dataframe tbody tr th {\n",
       "        vertical-align: top;\n",
       "    }\n",
       "\n",
       "    .dataframe thead th {\n",
       "        text-align: right;\n",
       "    }\n",
       "</style>\n",
       "<table border=\"1\" class=\"dataframe\">\n",
       "  <thead>\n",
       "    <tr style=\"text-align: right;\">\n",
       "      <th></th>\n",
       "      <th>siemens15</th>\n",
       "      <th>siemens3</th>\n",
       "      <th>ge15</th>\n",
       "      <th>ge3</th>\n",
       "      <th>philips15</th>\n",
       "      <th>philips3</th>\n",
       "    </tr>\n",
       "  </thead>\n",
       "  <tbody>\n",
       "    <tr>\n",
       "      <th>siemens15</th>\n",
       "      <td>0.848044</td>\n",
       "      <td>0.508175</td>\n",
       "      <td>0.717723</td>\n",
       "      <td>0.563143</td>\n",
       "      <td>0.705878</td>\n",
       "      <td>0.706571</td>\n",
       "    </tr>\n",
       "    <tr>\n",
       "      <th>siemens3</th>\n",
       "      <td>0.719652</td>\n",
       "      <td>0.880677</td>\n",
       "      <td>0.698643</td>\n",
       "      <td>0.667699</td>\n",
       "      <td>0.633299</td>\n",
       "      <td>0.663074</td>\n",
       "    </tr>\n",
       "    <tr>\n",
       "      <th>ge15</th>\n",
       "      <td>0.390694</td>\n",
       "      <td>0.090998</td>\n",
       "      <td>0.866190</td>\n",
       "      <td>0.295944</td>\n",
       "      <td>0.554587</td>\n",
       "      <td>0.481358</td>\n",
       "    </tr>\n",
       "    <tr>\n",
       "      <th>ge3</th>\n",
       "      <td>0.798028</td>\n",
       "      <td>0.627664</td>\n",
       "      <td>0.662275</td>\n",
       "      <td>0.887094</td>\n",
       "      <td>0.672087</td>\n",
       "      <td>0.665904</td>\n",
       "    </tr>\n",
       "    <tr>\n",
       "      <th>philips15</th>\n",
       "      <td>0.630458</td>\n",
       "      <td>0.245912</td>\n",
       "      <td>0.865359</td>\n",
       "      <td>0.425965</td>\n",
       "      <td>0.894273</td>\n",
       "      <td>0.460751</td>\n",
       "    </tr>\n",
       "    <tr>\n",
       "      <th>philips3</th>\n",
       "      <td>0.542732</td>\n",
       "      <td>0.343421</td>\n",
       "      <td>0.698350</td>\n",
       "      <td>0.371684</td>\n",
       "      <td>0.468458</td>\n",
       "      <td>0.863623</td>\n",
       "    </tr>\n",
       "  </tbody>\n",
       "</table>\n",
       "</div>"
      ],
      "text/plain": [
       "           siemens15  siemens3      ge15       ge3  philips15  philips3\n",
       "siemens15   0.848044  0.508175  0.717723  0.563143   0.705878  0.706571\n",
       "siemens3    0.719652  0.880677  0.698643  0.667699   0.633299  0.663074\n",
       "ge15        0.390694  0.090998  0.866190  0.295944   0.554587  0.481358\n",
       "ge3         0.798028  0.627664  0.662275  0.887094   0.672087  0.665904\n",
       "philips15   0.630458  0.245912  0.865359  0.425965   0.894273  0.460751\n",
       "philips3    0.542732  0.343421  0.698350  0.371684   0.468458  0.863623"
      ]
     },
     "execution_count": 62,
     "metadata": {},
     "output_type": "execute_result"
    }
   ],
   "source": [
    "df_old"
   ]
  },
  {
   "cell_type": "code",
   "execution_count": 63,
   "id": "formed-shakespeare",
   "metadata": {},
   "outputs": [
    {
     "data": {
      "text/html": [
       "<div>\n",
       "<style scoped>\n",
       "    .dataframe tbody tr th:only-of-type {\n",
       "        vertical-align: middle;\n",
       "    }\n",
       "\n",
       "    .dataframe tbody tr th {\n",
       "        vertical-align: top;\n",
       "    }\n",
       "\n",
       "    .dataframe thead th {\n",
       "        text-align: right;\n",
       "    }\n",
       "</style>\n",
       "<table border=\"1\" class=\"dataframe\">\n",
       "  <thead>\n",
       "    <tr style=\"text-align: right;\">\n",
       "      <th></th>\n",
       "      <th>siemens15</th>\n",
       "      <th>siemens3</th>\n",
       "      <th>ge15</th>\n",
       "      <th>ge3</th>\n",
       "      <th>philips15</th>\n",
       "      <th>philips3</th>\n",
       "    </tr>\n",
       "  </thead>\n",
       "  <tbody>\n",
       "    <tr>\n",
       "      <th>siemens15</th>\n",
       "      <td>0.858110</td>\n",
       "      <td>0.608170</td>\n",
       "      <td>0.700031</td>\n",
       "      <td>0.655559</td>\n",
       "      <td>0.689121</td>\n",
       "      <td>0.775209</td>\n",
       "    </tr>\n",
       "    <tr>\n",
       "      <th>siemens3</th>\n",
       "      <td>0.696067</td>\n",
       "      <td>0.872101</td>\n",
       "      <td>0.629186</td>\n",
       "      <td>0.731467</td>\n",
       "      <td>0.645036</td>\n",
       "      <td>0.717082</td>\n",
       "    </tr>\n",
       "    <tr>\n",
       "      <th>ge15</th>\n",
       "      <td>0.364585</td>\n",
       "      <td>0.107161</td>\n",
       "      <td>0.836391</td>\n",
       "      <td>0.363212</td>\n",
       "      <td>0.621807</td>\n",
       "      <td>0.551598</td>\n",
       "    </tr>\n",
       "    <tr>\n",
       "      <th>ge3</th>\n",
       "      <td>0.737310</td>\n",
       "      <td>0.658075</td>\n",
       "      <td>0.580418</td>\n",
       "      <td>0.886189</td>\n",
       "      <td>0.589849</td>\n",
       "      <td>0.744775</td>\n",
       "    </tr>\n",
       "    <tr>\n",
       "      <th>philips15</th>\n",
       "      <td>0.581591</td>\n",
       "      <td>0.402445</td>\n",
       "      <td>0.806356</td>\n",
       "      <td>0.517381</td>\n",
       "      <td>0.876841</td>\n",
       "      <td>0.740148</td>\n",
       "    </tr>\n",
       "    <tr>\n",
       "      <th>philips3</th>\n",
       "      <td>0.546969</td>\n",
       "      <td>0.371160</td>\n",
       "      <td>0.625905</td>\n",
       "      <td>0.359648</td>\n",
       "      <td>0.532264</td>\n",
       "      <td>0.855453</td>\n",
       "    </tr>\n",
       "  </tbody>\n",
       "</table>\n",
       "</div>"
      ],
      "text/plain": [
       "           siemens15  siemens3      ge15       ge3  philips15  philips3\n",
       "siemens15   0.858110  0.608170  0.700031  0.655559   0.689121  0.775209\n",
       "siemens3    0.696067  0.872101  0.629186  0.731467   0.645036  0.717082\n",
       "ge15        0.364585  0.107161  0.836391  0.363212   0.621807  0.551598\n",
       "ge3         0.737310  0.658075  0.580418  0.886189   0.589849  0.744775\n",
       "philips15   0.581591  0.402445  0.806356  0.517381   0.876841  0.740148\n",
       "philips3    0.546969  0.371160  0.625905  0.359648   0.532264  0.855453"
      ]
     },
     "execution_count": 63,
     "metadata": {},
     "output_type": "execute_result"
    }
   ],
   "source": [
    "df_new"
   ]
  },
  {
   "cell_type": "code",
   "execution_count": 68,
   "id": "transparent-yesterday",
   "metadata": {},
   "outputs": [
    {
     "data": {
      "text/html": [
       "<div>\n",
       "<style scoped>\n",
       "    .dataframe tbody tr th:only-of-type {\n",
       "        vertical-align: middle;\n",
       "    }\n",
       "\n",
       "    .dataframe tbody tr th {\n",
       "        vertical-align: top;\n",
       "    }\n",
       "\n",
       "    .dataframe thead th {\n",
       "        text-align: right;\n",
       "    }\n",
       "</style>\n",
       "<table border=\"1\" class=\"dataframe\">\n",
       "  <thead>\n",
       "    <tr style=\"text-align: right;\">\n",
       "      <th></th>\n",
       "      <th>siemens15</th>\n",
       "      <th>siemens3</th>\n",
       "      <th>ge15</th>\n",
       "      <th>ge3</th>\n",
       "      <th>philips15</th>\n",
       "      <th>philips3</th>\n",
       "    </tr>\n",
       "  </thead>\n",
       "  <tbody>\n",
       "    <tr>\n",
       "      <th>siemens15</th>\n",
       "      <td>0.010065</td>\n",
       "      <td>0.099996</td>\n",
       "      <td>-0.017692</td>\n",
       "      <td>0.092416</td>\n",
       "      <td>-0.016757</td>\n",
       "      <td>0.068638</td>\n",
       "    </tr>\n",
       "    <tr>\n",
       "      <th>siemens3</th>\n",
       "      <td>-0.023585</td>\n",
       "      <td>-0.008576</td>\n",
       "      <td>-0.069457</td>\n",
       "      <td>0.063768</td>\n",
       "      <td>0.011737</td>\n",
       "      <td>0.054008</td>\n",
       "    </tr>\n",
       "    <tr>\n",
       "      <th>ge15</th>\n",
       "      <td>-0.026109</td>\n",
       "      <td>0.016163</td>\n",
       "      <td>-0.029799</td>\n",
       "      <td>0.067268</td>\n",
       "      <td>0.067220</td>\n",
       "      <td>0.070240</td>\n",
       "    </tr>\n",
       "    <tr>\n",
       "      <th>ge3</th>\n",
       "      <td>-0.060718</td>\n",
       "      <td>0.030411</td>\n",
       "      <td>-0.081857</td>\n",
       "      <td>-0.000906</td>\n",
       "      <td>-0.082238</td>\n",
       "      <td>0.078871</td>\n",
       "    </tr>\n",
       "    <tr>\n",
       "      <th>philips15</th>\n",
       "      <td>-0.048867</td>\n",
       "      <td>0.156534</td>\n",
       "      <td>-0.059003</td>\n",
       "      <td>0.091417</td>\n",
       "      <td>-0.017432</td>\n",
       "      <td>0.279397</td>\n",
       "    </tr>\n",
       "    <tr>\n",
       "      <th>philips3</th>\n",
       "      <td>0.004237</td>\n",
       "      <td>0.027740</td>\n",
       "      <td>-0.072445</td>\n",
       "      <td>-0.012036</td>\n",
       "      <td>0.063806</td>\n",
       "      <td>-0.008170</td>\n",
       "    </tr>\n",
       "  </tbody>\n",
       "</table>\n",
       "</div>"
      ],
      "text/plain": [
       "           siemens15  siemens3      ge15       ge3  philips15  philips3\n",
       "siemens15   0.010065  0.099996 -0.017692  0.092416  -0.016757  0.068638\n",
       "siemens3   -0.023585 -0.008576 -0.069457  0.063768   0.011737  0.054008\n",
       "ge15       -0.026109  0.016163 -0.029799  0.067268   0.067220  0.070240\n",
       "ge3        -0.060718  0.030411 -0.081857 -0.000906  -0.082238  0.078871\n",
       "philips15  -0.048867  0.156534 -0.059003  0.091417  -0.017432  0.279397\n",
       "philips3    0.004237  0.027740 -0.072445 -0.012036   0.063806 -0.008170"
      ]
     },
     "execution_count": 68,
     "metadata": {},
     "output_type": "execute_result"
    }
   ],
   "source": [
    "df_new - df_old"
   ]
  },
  {
   "cell_type": "code",
   "execution_count": 78,
   "id": "private-strategy",
   "metadata": {},
   "outputs": [
    {
     "data": {
      "image/png": "[encoded data removed]",
      "text/plain": [
       "<Figure size 432x288 with 1 Axes>"
      ]
     },
     "metadata": {
      "needs_background": "light"
     },
     "output_type": "display_data"
    }
   ],
   "source": [
    "plt.hist((df_new - df_old).values.flatten(), bins=30);"
   ]
  },
  {
   "cell_type": "code",
   "execution_count": 26,
   "id": "different-thinking",
   "metadata": {},
   "outputs": [],
   "source": [
    "df_row = meta[meta['fold'] == 0].iloc[0]\n",
    "source_name = df_row['tomograph_model'] + str(df_row['tesla_value'])\n",
    "sdices = {}\n",
    "for n_val in range(3):\n",
    "    sdices = {**sdices,\n",
    "              **load(path_oracle_old / f'experiment_{0 * 3 + n_val}/test_metrics/sdice_score.json')}\n",
    "res = np.mean(list(sdices.values()))"
   ]
  },
  {
   "cell_type": "code",
   "execution_count": 27,
   "id": "abandoned-mitchell",
   "metadata": {},
   "outputs": [
    {
     "data": {
      "text/plain": [
       "0.6537562411385104"
      ]
     },
     "execution_count": 27,
     "metadata": {},
     "output_type": "execute_result"
    }
   ],
   "source": [
    "res"
   ]
  },
  {
   "cell_type": "code",
   "execution_count": 33,
   "id": "floppy-speaking",
   "metadata": {},
   "outputs": [
    {
     "data": {
      "text/plain": [
       "[False]"
      ]
     },
     "execution_count": 33,
     "metadata": {},
     "output_type": "execute_result"
    }
   ],
   "source": [
    "[0 == 1]"
   ]
  },
  {
   "cell_type": "code",
   "execution_count": 34,
   "id": "varied-allergy",
   "metadata": {},
   "outputs": [
    {
     "data": {
      "text/plain": [
       "False"
      ]
     },
     "execution_count": 34,
     "metadata": {},
     "output_type": "execute_result"
    }
   ],
   "source": [
    "1 in [0 == 1]"
   ]
  },
  {
   "cell_type": "code",
   "execution_count": 84,
   "id": "clean-accident",
   "metadata": {},
   "outputs": [
    {
     "data": {
      "text/plain": [
       "False"
      ]
     },
     "execution_count": 84,
     "metadata": {},
     "output_type": "execute_result"
    }
   ],
   "source": [
    "0 == 1 in [0 == 1]"
   ]
  },
  {
   "cell_type": "code",
   "execution_count": 86,
   "id": "crazy-service",
   "metadata": {},
   "outputs": [
    {
     "data": {
      "text/plain": [
       "True"
      ]
     },
     "execution_count": 86,
     "metadata": {},
     "output_type": "execute_result"
    }
   ],
   "source": [
    "0 == (1 in [0 == 1])"
   ]
  },
  {
   "cell_type": "code",
   "execution_count": 89,
   "id": "narrative-coral",
   "metadata": {},
   "outputs": [
    {
     "data": {
      "text/plain": [
       "True"
      ]
     },
     "execution_count": 89,
     "metadata": {},
     "output_type": "execute_result"
    }
   ],
   "source": [
    "(0 == 1) in [0 == 1]"
   ]
  },
  {
   "cell_type": "code",
   "execution_count": 88,
   "id": "contemporary-wheel",
   "metadata": {},
   "outputs": [
    {
     "data": {
      "text/plain": [
       "False"
      ]
     },
     "execution_count": 88,
     "metadata": {},
     "output_type": "execute_result"
    }
   ],
   "source": [
    "0 == 1 in [0 == 1]"
   ]
  },
  {
   "cell_type": "code",
   "execution_count": null,
   "id": "focal-status",
   "metadata": {},
   "outputs": [],
   "source": []
  }
 ],
 "metadata": {
  "kernelspec": {
   "display_name": "Python 3",
   "language": "python",
   "name": "python3"
  },
  "language_info": {
   "codemirror_mode": {
    "name": "ipython",
    "version": 3
   },
   "file_extension": ".py",
   "mimetype": "text/x-python",
   "name": "python",
   "nbconvert_exporter": "python",
   "pygments_lexer": "ipython3",
   "version": "3.7.6"
  }
 },
 "nbformat": 4,
 "nbformat_minor": 5
}
